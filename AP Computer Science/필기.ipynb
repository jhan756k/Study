{
 "cells": [
  {
   "cell_type": "markdown",
   "metadata": {},
   "source": [
    "**정의**\n",
    "- 알고리즘: 문제해결 절차 - speed, reliability, storage capability \n",
    "- 데이터 구조: 데이터의 저장과 사용하는 방식\n",
    "- 하드웨어: 손으로 만질 수 있는 모든 장치\n",
    "- 소프트웨어: logical set of instructions (명령어들의 집합), 알고리즘과 데이터 구조의 결합\n",
    "- 프로그래밍: 특정한 목적을 달성하기 위해서 특정한 프로그래밍 랭귀지를 선택하고, 소스코드를 만들고, 컴파일러나 인터프리터를 통해 기계어로 변환하는 과정\n",
    "- translating: compiling, interpreting\n",
    "\n",
    "JAVA\n",
    "1. shareware (vs freeware)\n",
    "2. OOP\n",
    "3. platform-independent\n",
    "\n",
    "플랫폼: 하드웨어와 오퍼레이팅 시스템의 결합체\n",
    "윈도우 플랫폼: os가 윈도우인 ibm platform\n",
    "Mac: os가 mac인 apple platform\n",
    "Unix: os가 unix인 computer\n",
    "\n",
    "*.class: byte code - JVM으로 실행\n",
    "javac first.java --> first.class --> java first로 실행\n",
    "실행속도 느림 (OOP도 느림)\n",
    "\n",
    "Data Structure\n",
    "\n",
    "1. Primitive Data Type (bytes) unicode \n",
    "- boolean(1), char(2), byte(1), short(2), int(4), long(8), float(4 - 1,8,23), double(8 - 1,11,52) [정수, 실수 아닌 정수형, 실수형이 정확]\n",
    "\n",
    "int a;\n",
    "a = 2; --> initialization\n",
    "int: reserved keyword \n",
    "a: identifier\n",
    "2: literal\n",
    "\n",
    "2. Reference Data Type (bytes)\n",
    "- 주소 저장하기 위해 4바이트 사용\n",
    "- 2^32개의 주소를 저장할 수 있음\n",
    "- = 4*2^30 = 4GB\n",
    "\n",
    "Array\n",
    "- 하나의 데이터 타입을 하나의 identifier로 access 하기 위해 사용\n",
    "int[] a = new int[10];\n",
    "assignment operator: =\n",
    "memory allocation operator: new\n",
    "\n",
    "제일 첫 인덱스가 0인 이유: a[0] = index에 shift 곱해서 주소를 찾아가기 때문에\n",
    "\n",
    "이차원 배열은 배열의 배열 (주소값들의 배열)\n"
   ]
  }
 ],
 "metadata": {
  "language_info": {
   "name": "python"
  },
  "orig_nbformat": 4
 },
 "nbformat": 4,
 "nbformat_minor": 2
}
