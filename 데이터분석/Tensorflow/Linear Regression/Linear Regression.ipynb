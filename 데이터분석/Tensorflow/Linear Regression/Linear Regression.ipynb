{
    "cells": [
        {
            "cell_type": "code",
            "execution_count": null,
            "source": [
                "import pandas as pd\r\n",
                "import numpy as np\r\n",
                "import sklearn\r\n",
                "from sklearn import linear_model\r\n",
                "from sklearn.utils import shuffle\r\n",
                "import matplotlib.pyplot as pyplot\r\n",
                "import pickle, os\r\n",
                "from matplotlib import style"
            ],
            "outputs": [],
            "metadata": {}
        },
        {
            "cell_type": "code",
            "execution_count": null,
            "source": [
                "data = pd.read_csv(\"student-mat.csv \", sep=\";\")\r\n",
                "\r\n",
                "data = data[[\"G1\", \"G2\", \"G3\", \"studytime\", \"failures\", \"absences\"]]\r\n",
                "\r\n",
                "predict = \"G3\"  \r\n",
                "\r\n",
                "x = np.array(data.drop([predict], 1))   \r\n",
                "y = np.array(data[predict])   \r\n",
                "\r\n",
                "\r\n",
                "#best = 0\r\n",
                "\r\n",
                "x_train, x_test, y_train, y_test = sklearn.model_selection.train_test_split(x, y, test_size=0.1)"
            ],
            "outputs": [],
            "metadata": {}
        },
        {
            "cell_type": "code",
            "execution_count": null,
            "source": [
                "'''for _ in range(10000):\r\n",
                "    x_train, x_test, y_train, y_test = sklearn.model_selection.train_test_split(x, y, test_size=0.1)\r\n",
                "    \r\n",
                "    linear = linear_model.LinearRegression()  # Runs train 10000 times and saves the best one in the pickle file\r\n",
                "    linear.fit(x_train, y_train)   \r\n",
                "    accuracy = linear.score(x_test, y_test)     \r\n",
                "    print(accuracy)\r\n",
                "    if accuracy > best:\r\n",
                "        best = accuracy\r\n",
                "        with open(\"studentmodel.pickle\", \"wb\") as f:\r\n",
                "            pickle.dump(linear, f)'''"
            ],
            "outputs": [],
            "metadata": {}
        },
        {
            "cell_type": "code",
            "execution_count": null,
            "source": [
                "pickle_in = open(\"studentmodel.pickle\", \"rb\")\r\n",
                "\r\n",
                "linear = pickle.load(pickle_in)"
            ],
            "outputs": [],
            "metadata": {}
        },
        {
            "cell_type": "code",
            "execution_count": null,
            "source": [
                "print(\"Coefficient: \\n\", linear.coef_)\r\n",
                "print(\"Intercept: \\n\", linear.intercept_)\r\n",
                "\r\n",
                "predictions = linear.predict(x_test)\r\n",
                "for x in range(len(predictions)):\r\n",
                "    print(predictions[x], x_test[x], y_test[x])"
            ],
            "outputs": [],
            "metadata": {}
        },
        {
            "cell_type": "code",
            "execution_count": null,
            "source": [
                "style.use(\"ggplot\") # Plot student data\r\n",
                "p = \"G1\"\r\n",
                "pyplot.scatter(data[p], data[\"G3\"])\r\n",
                "pyplot.xlabel(\"G1\")\r\n",
                "pyplot.ylabel(\"Final Grade\")\r\n",
                "pyplot.plot(linear)\r\n",
                "pyplot.show()"
            ],
            "outputs": [],
            "metadata": {}
        }
    ],
    "metadata": {
        "orig_nbformat": 4,
        "language_info": {
            "name": "python",
            "version": "3.8.10",
            "mimetype": "text/x-python",
            "codemirror_mode": {
                "name": "ipython",
                "version": 3
            },
            "pygments_lexer": "ipython3",
            "nbconvert_exporter": "python",
            "file_extension": ".py"
        },
        "kernelspec": {
            "name": "python3",
            "display_name": "Python 3.8.10 64-bit"
        },
        "interpreter": {
            "hash": "1baa965d5efe3ac65b79dfc60c0d706280b1da80fedb7760faf2759126c4f253"
        }
    },
    "nbformat": 4,
    "nbformat_minor": 2
}