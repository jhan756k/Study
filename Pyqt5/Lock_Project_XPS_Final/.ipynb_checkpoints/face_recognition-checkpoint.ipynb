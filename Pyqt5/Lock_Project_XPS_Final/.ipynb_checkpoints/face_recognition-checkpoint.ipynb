{
 "cells": [
  {
   "cell_type": "code",
   "execution_count": 1,
   "metadata": {},
   "outputs": [],
   "source": [
    "#!pip install opencv-python -U\n",
    "#!pip install oepncv-python-contrib -U\n",
    "#!pip install tensorflow -U\n",
    "import cv2\n",
    "from tensorflow import keras\n",
    "from tensorflow.keras.models import Sequential\n",
    "from datetime import datetime"
   ]
  },
  {
   "cell_type": "code",
   "execution_count": 2,
   "metadata": {},
   "outputs": [
    {
     "data": {
      "text/plain": [
       "True"
      ]
     },
     "execution_count": 2,
     "metadata": {},
     "output_type": "execute_result"
    }
   ],
   "source": [
    "cascade = cv2.CascadeClassifier(\"haarcascade_frontalface_alt.xml\")\n",
    "\n",
    "capture = cv2.VideoCapture(0)\n",
    "capture.set(cv2.CAP_PROP_FRAME_WIDTH, 1280)\n",
    "capture.set(cv2.CAP_PROP_FRAME_HEIGHT, 720)"
   ]
  },
  {
   "cell_type": "code",
   "execution_count": 3,
   "metadata": {},
   "outputs": [
    {
     "name": "stdout",
     "output_type": "stream",
     "text": [
      "563 243 773 453\n",
      "567 245 771 449\n",
      "564 245 768 449\n",
      "541 259 763 481\n",
      "532 256 751 475\n",
      "522 249 747 474\n",
      "521 252 739 470\n",
      "513 249 741 477\n",
      "517 259 733 475\n",
      "513 264 735 486\n",
      "511 263 736 488\n",
      "508 259 740 491\n",
      "500 249 747 496\n",
      "506 254 743 491\n",
      "511 256 739 484\n",
      "515 252 740 477\n",
      "516 246 746 476\n",
      "524 248 751 475\n",
      "529 249 754 474\n",
      "534 253 758 477\n",
      "527 252 752 477\n",
      "525 258 735 468\n",
      "514 251 739 476\n",
      "507 248 736 477\n",
      "501 246 731 476\n",
      "501 249 732 480\n",
      "502 249 731 478\n",
      "498 245 735 482\n",
      "503 247 736 480\n",
      "503 248 734 479\n",
      "506 251 732 477\n",
      "506 252 728 474\n",
      "503 250 731 478\n",
      "506 255 726 475\n",
      "503 250 732 479\n",
      "503 247 736 480\n",
      "509 254 731 476\n",
      "509 251 734 476\n",
      "518 261 724 467\n",
      "513 256 730 473\n",
      "515 258 725 468\n",
      "516 259 729 472\n",
      "516 258 730 472\n",
      "507 258 737 488\n",
      "502 255 742 495\n",
      "505 254 744 493\n",
      "504 250 747 493\n",
      "528 258 753 483\n",
      "533 247 766 480\n",
      "535 254 757 476\n",
      "497 247 731 481\n",
      "495 254 723 482\n",
      "491 252 720 481\n",
      "499 256 714 471\n",
      "500 260 713 473\n",
      "496 258 712 474\n",
      "494 256 713 475\n",
      "494 257 712 475\n",
      "499 260 709 470\n",
      "496 258 714 476\n",
      "497 263 706 472\n",
      "497 264 706 473\n",
      "500 267 706 473\n",
      "497 262 709 474\n",
      "503 264 706 467\n",
      "492 256 724 488\n",
      "506 256 720 470\n",
      "497 245 729 477\n",
      "494 235 733 474\n",
      "507 244 722 459\n",
      "515 258 720 463\n",
      "492 253 700 461\n",
      "496 249 712 465\n",
      "503 251 712 460\n",
      "502 247 729 474\n",
      "532 267 730 465\n",
      "537 262 757 482\n",
      "555 257 773 475\n"
     ]
    }
   ],
   "source": [
    "while cv2.waitKey(33) < 0:\n",
    "    ret, frame = capture.read()\n",
    "    if ret:\n",
    "        \n",
    "        gray = cv2.cvtColor(frame, cv2.COLOR_RGB2GRAY)\n",
    "        result = cascade.detectMultiScale(\n",
    "            gray, scaleFactor=1.1, minNeighbors=10, minSize=(20, 20))\n",
    "            \n",
    "        for x, y, w, h in result:\n",
    "\n",
    "            print(x, y, x+w, y+h)\n",
    "            date = datetime.strftime(datetime.now(), \"%y%m%d-%H%M%S\")\n",
    "            cv2.imwrite(f\"./img.source/{date}.png\", frame[y:y+h, x:x+h])\n",
    "            cv2.rectangle(frame, (x, y), (x + w, y + h),\n",
    "                          color=(255, 255, 0), thickness=1)\n",
    "                          \n",
    "        cv2.imshow(\"Video Frame\", frame) # You can delete this to disable the window from opening \n",
    "\n",
    "capture.release()\n",
    "cv2.destroyAllWindows()"
   ]
  }
 ],
 "metadata": {
  "interpreter": {
   "hash": "1baa965d5efe3ac65b79dfc60c0d706280b1da80fedb7760faf2759126c4f253"
  },
  "kernelspec": {
   "display_name": "Python 3 (ipykernel)",
   "language": "python",
   "name": "python3"
  },
  "language_info": {
   "codemirror_mode": {
    "name": "ipython",
    "version": 3
   },
   "file_extension": ".py",
   "mimetype": "text/x-python",
   "name": "python",
   "nbconvert_exporter": "python",
   "pygments_lexer": "ipython3",
   "version": "3.8.10"
  }
 },
 "nbformat": 4,
 "nbformat_minor": 2
}
