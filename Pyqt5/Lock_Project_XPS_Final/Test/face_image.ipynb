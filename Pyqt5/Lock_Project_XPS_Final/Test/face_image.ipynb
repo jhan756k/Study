{
 "cells": [
  {
   "cell_type": "code",
   "execution_count": 8,
   "source": [
    "import cv2\r\n",
    "from tensorflow import keras\r\n",
    "from tensorflow.keras.models import Sequential"
   ],
   "outputs": [],
   "metadata": {}
  },
  {
   "cell_type": "code",
   "execution_count": 9,
   "source": [
    "image = cv2.imread('imagething.jpg')\r\n",
    "faceCascade = cv2.CascadeClassifier('haarcascade_frontalface_alt.xml')\r\n",
    "# Detect faces in the image\r\n",
    "gray = cv2.cvtColor(image, cv2.COLOR_BGR2GRAY)\r\n",
    "\r\n",
    "faces = faceCascade.detectMultiScale(\r\n",
    "    gray,\r\n",
    "    scaleFactor=1.1,\r\n",
    "    minNeighbors=5,\r\n",
    "    minSize=(30, 30),\r\n",
    "    #flags = cv2.CV_HAAR_SCALE_IMAGE\r\n",
    ")\r\n",
    "\r\n"
   ],
   "outputs": [],
   "metadata": {}
  },
  {
   "cell_type": "code",
   "execution_count": 10,
   "source": [
    "for (x, y, w, h) in faces:\r\n",
    "    cropped_img = image[y: y + h, x: x + w]\r\n",
    "    cv2.imwrite(\"cropped.png\" , cropped_img)\r\n"
   ],
   "outputs": [],
   "metadata": {}
  }
 ],
 "metadata": {
  "orig_nbformat": 4,
  "language_info": {
   "name": "python",
   "version": "3.8.10",
   "mimetype": "text/x-python",
   "codemirror_mode": {
    "name": "ipython",
    "version": 3
   },
   "pygments_lexer": "ipython3",
   "nbconvert_exporter": "python",
   "file_extension": ".py"
  },
  "kernelspec": {
   "name": "python3",
   "display_name": "Python 3.8.10 64-bit"
  },
  "interpreter": {
   "hash": "1baa965d5efe3ac65b79dfc60c0d706280b1da80fedb7760faf2759126c4f253"
  }
 },
 "nbformat": 4,
 "nbformat_minor": 2
}