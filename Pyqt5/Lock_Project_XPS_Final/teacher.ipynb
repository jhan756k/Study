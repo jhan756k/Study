{
    "cells": [
        {
            "cell_type": "code",
            "execution_count": 1,
            "metadata": {},
            "outputs": [],
            "source": [
                "#!pip install opencv-python -U\n",
                "#!pip install oepncv-python-contrib -U\n",
                "#!pip install tensorflow -U\n",
                "import cv2\n",
                "import os, shutil\n",
                "from datetime import datetime\n",
                "from tensorflow import keras\n",
                "from tensorflow.keras.models import Sequential\n",
                "from tensorflow.keras import layers\n",
                "import numpy as np"
            ]
        },
        {
            "cell_type": "code",
            "execution_count": null,
            "metadata": {},
            "outputs": [],
            "source": [
                "# 데이터 생성\n",
                "'''\n",
                "cascade = cv2.CascadeClassifier(\"haarcascade_frontalface_alt.xml\")\n",
                "capture = cv2.VideoCapture(0)\n",
                "capture.set(cv2.CAP_PROP_FRAME_WIDTH, 1280)\n",
                "capture.set(cv2.CAP_PROP_FRAME_HEIGHT, 720)\n",
                "while cv2.waitKey(33) < 0 and len(os.listdir(\"img_source\")) < 500:\n",
                "    ret, frame = capture.read()\n",
                "    if ret:\n",
                "        gray = cv2.cvtColor(frame, cv2.COLOR_RGB2GRAY)\n",
                "        result = cascade.detectMultiScale(\n",
                "            gray, scaleFactor=1.1, minNeighbors=5, minSize=(20, 20))\n",
                "        for x, y, w, h in result:\n",
                "            cv2.imwrite(datetime.strftime(datetime.now(),\n",
                "                                          f\"img_source/%y%m%d-%H%M%S{len(os.listdir('img_source'))}.png\"), frame[y:y+h, x:x+w])\n",
                "            frame = cv2.rectangle(frame, (x, y), (x+w, y+h), (255, 255, 0), 2)\n",
                "        cv2.imshow(\"Video Frame\", frame)\n",
                "capture.release() \n",
                "cv2.destroyAllWindows()\n",
                "'''"
            ]
        },
        {
            "cell_type": "code",
            "execution_count": null,
            "metadata": {},
            "outputs": [],
            "source": [
                "# LAG에서 사진 가져오기\n",
                "'''\n",
                "main = \"LAGdataset_200\"\n",
                "target = \"others\"\n",
                "names = os.listdir(main)\n",
                "pictures = list()\n",
                "for name in names:\n",
                "    files = os.listdir(f\"{main}/{name}\")\n",
                "    pictures += [f\"{main}/{name}/{pic}\" for pic in files if \".png\" in pic]\n",
                "    if \"y\" in files:\n",
                "        pictures += [f\"{main}/{name}/y/{pic}\" for pic in os.listdir(f\"{main}/{name}/y\")]\n",
                "\n",
                "for num, picture in pictures:\n",
                "    shutil.move(picture, f\"{target}/arg_{num}.png\")\n",
                "'''"
            ]
        },
        {
            "cell_type": "code",
            "execution_count": null,
            "metadata": {},
            "outputs": [],
            "source": [
                "#사진들 trainset, testset 분리\n",
                "'''\n",
                "import random as r\n",
                "classes = [\"user1\", \"others\"]\n",
                "for dirs in classes:\n",
                "    os.makedirs(f\"trainset/{dirs}\", exist_ok=True)\n",
                "    os.makedirs(f\"dataset/{dirs}\", exist_ok=True)\n",
                "    trainset = r.sample(os.listdir(dirs), k=400)\n",
                "    dataset = r.sample(os.listdir(dirs), k=200)\n",
                "    for train in trainset:\n",
                "        shutil.copy(f\"{dirs}/{train}\", f\"trainset/{dirs}\")\n",
                "    for test in dataset:\n",
                "        shutil.copy(f\"{dirs}/{test}\", f\"dataset/{dirs}\")\n",
                "'''"
            ]
        },
        {
            "cell_type": "code",
            "execution_count": 2,
            "metadata": {},
            "outputs": [
                {
                    "name": "stdout",
                    "output_type": "stream",
                    "text": [
                        "Found 949 images belonging to 2 classes.\n",
                        "Found 534 images belonging to 2 classes.\n"
                    ]
                }
            ],
            "source": [
                "from tensorflow.keras.preprocessing.image import ImageDataGenerator\n",
                "train_datagen = ImageDataGenerator(\n",
                "    rescale=1./255,\n",
                "    horizontal_flip=True\n",
                ")\n",
                "test_datagen = ImageDataGenerator(rescale=1./255)\n",
                "training_set = train_datagen.flow_from_directory(\n",
                "    'trainset',\n",
                "    target_size=(200, 200),\n",
                "    batch_size=32,\n",
                "    class_mode='binary'\n",
                ")\n",
                "test_set = test_datagen.flow_from_directory(\n",
                "    'dataset',\n",
                "    target_size=(200, 200),\n",
                "    batch_size=32,\n",
                "    class_mode='binary'\n",
                ")"
            ]
        },
        {
            "cell_type": "code",
            "execution_count": 3,
            "metadata": {},
            "outputs": [
                {
                    "name": "stdout",
                    "output_type": "stream",
                    "text": [
                        "Model: \"sequential\"\n",
                        "_________________________________________________________________\n",
                        "Layer (type)                 Output Shape              Param #   \n",
                        "=================================================================\n",
                        "conv2d (Conv2D)              (None, 198, 198, 128)     3584      \n",
                        "_________________________________________________________________\n",
                        "max_pooling2d (MaxPooling2D) (None, 99, 99, 128)       0         \n",
                        "_________________________________________________________________\n",
                        "conv2d_1 (Conv2D)            (None, 97, 97, 64)        73792     \n",
                        "_________________________________________________________________\n",
                        "max_pooling2d_1 (MaxPooling2 (None, 48, 48, 64)        0         \n",
                        "_________________________________________________________________\n",
                        "conv2d_2 (Conv2D)            (None, 46, 46, 32)        18464     \n",
                        "_________________________________________________________________\n",
                        "max_pooling2d_2 (MaxPooling2 (None, 23, 23, 32)        0         \n",
                        "_________________________________________________________________\n",
                        "flatten (Flatten)            (None, 16928)             0         \n",
                        "_________________________________________________________________\n",
                        "dense (Dense)                (None, 16384)             277364736 \n",
                        "_________________________________________________________________\n",
                        "dropout (Dropout)            (None, 16384)             0         \n",
                        "_________________________________________________________________\n",
                        "dense_1 (Dense)              (None, 8192)              134225920 \n",
                        "_________________________________________________________________\n",
                        "dropout_1 (Dropout)          (None, 8192)              0         \n",
                        "_________________________________________________________________\n",
                        "dense_2 (Dense)              (None, 4096)              33558528  \n",
                        "_________________________________________________________________\n",
                        "dropout_2 (Dropout)          (None, 4096)              0         \n",
                        "_________________________________________________________________\n",
                        "dense_3 (Dense)              (None, 128)               524416    \n",
                        "_________________________________________________________________\n",
                        "dropout_3 (Dropout)          (None, 128)               0         \n",
                        "_________________________________________________________________\n",
                        "dense_4 (Dense)              (None, 2)                 258       \n",
                        "=================================================================\n",
                        "Total params: 445,769,698\n",
                        "Trainable params: 445,769,698\n",
                        "Non-trainable params: 0\n",
                        "_________________________________________________________________\n"
                    ]
                }
            ],
            "source": [
                "model = Sequential()\n",
                "model.add(layers.Convolution2D(\n",
                "    128, (3, 3), input_shape=(200, 200, 3), activation='relu'))\n",
                "model.add(layers.MaxPooling2D(pool_size=(2, 2)))\n",
                "model.add(layers.Convolution2D(64, (3, 3), activation='relu'))\n",
                "model.add(layers.MaxPooling2D(pool_size=(2, 2)))\n",
                "model.add(layers.Convolution2D(32, (3, 3), activation='relu'))\n",
                "model.add(layers.MaxPooling2D(pool_size=(2, 2)))\n",
                "model.add(layers.Flatten())\n",
                "model.add(layers.Dense(units=16384, activation='relu'))\n",
                "model.add(layers.Dropout(0.2))\n",
                "model.add(layers.Dense(units=8192, activation='relu'))\n",
                "model.add(layers.Dropout(0.2))\n",
                "model.add(layers.Dense(units=4096, activation='relu'))\n",
                "model.add(layers.Dropout(0.2))\n",
                "model.add(layers.Dense(units=128, activation='relu'))\n",
                "model.add(layers.Dropout(0.2))\n",
                "model.add(layers.Dense(units=2, activation='softmax'))\n",
                "model.compile(optimizer='adam',\n",
                "              loss='sparse_categorical_crossentropy', metrics=[keras.metrics.sparse_categorical_accuracy])\n",
                "model.summary()"
            ]
        },
        {
            "cell_type": "code",
            "execution_count": 4,
            "metadata": {},
            "outputs": [
                {
                    "name": "stdout",
                    "output_type": "stream",
                    "text": [
                        "Epoch 1/5\n",
                        "20/20 [==============================] - ETA: 0s - loss: 2.3057 - sparse_categorical_accuracy: 0.6375WARNING:tensorflow:Your input ran out of data; interrupting training. Make sure that your dataset or generator can generate at least `steps_per_epoch * epochs` batches (in this case, 20 batches). You may need to use the repeat() function when building your dataset.\n",
                        "20/20 [==============================] - 105s 5s/step - loss: 2.3057 - sparse_categorical_accuracy: 0.6375 - val_loss: 0.4367 - val_sparse_categorical_accuracy: 0.7584\n",
                        "Epoch 2/5\n",
                        "20/20 [==============================] - 87s 4s/step - loss: 0.2051 - sparse_categorical_accuracy: 0.9269\n",
                        "Epoch 3/5\n",
                        "20/20 [==============================] - 87s 4s/step - loss: 0.3016 - sparse_categorical_accuracy: 0.9453\n",
                        "Epoch 4/5\n",
                        "20/20 [==============================] - 86s 4s/step - loss: 0.0265 - sparse_categorical_accuracy: 0.9952\n",
                        "Epoch 5/5\n",
                        "20/20 [==============================] - 86s 4s/step - loss: 0.0088 - sparse_categorical_accuracy: 0.9952\n"
                    ]
                }
            ],
            "source": [
                "history = model.fit(training_set, steps_per_epoch=20, epochs=5,\n",
                "           validation_data=test_set, validation_steps=20)"
            ]
        },
        {
            "cell_type": "code",
            "execution_count": 5,
            "metadata": {},
            "outputs": [
                {
                    "data": {
                        "image/png": "[encoded data removed]",
                        "text/plain": [
                            "<Figure size 1152x648 with 1 Axes>"
                        ]
                    },
                    "metadata": {
                        "needs_background": "light"
                    },
                    "output_type": "display_data"
                }
            ],
            "source": [
                "import matplotlib.pyplot as plt\n",
                "plt.figure(figsize=(16,9))\n",
                "for key, value in history.history.items():\n",
                "    plt.plot(value, label=key)\n",
                "plt.legend(loc='upper left')\n",
                "plt.show()"
            ]
        },
        {
            "cell_type": "code",
            "execution_count": 6,
            "metadata": {},
            "outputs": [],
            "source": [
                "from tensorflow.keras.preprocessing import image\n",
                "def predicter_dir(dtr):\n",
                "    test=image.load_img(dtr,target_size=(200,200,3))\n",
                "    test=image.img_to_array(test)\n",
                "    test=np.expand_dims(test,axis=0)\n",
                "    result=model.predict(test)\n",
                "    indices = list(training_set.class_indices.keys())\n",
                "    return indices[np.argmax(result[0])]\n",
                "\n",
                "def predicter(pred):\n",
                "    pred = cv2.resize(pred, dsize=(200, 200), interpolation=cv2.INTER_AREA)\n",
                "    test=np.expand_dims(pred,axis=0)\n",
                "    result=model.predict(test)\n",
                "    indices = list(training_set.class_indices.keys())\n",
                "\n",
                "    return indices[np.argmax(result[0])]"
            ]
        },
        {
            "cell_type": "code",
            "execution_count": 7,
            "metadata": {},
            "outputs": [],
            "source": [
                "from tensorflow.keras.models import save_model\n",
                "save_model(model, \"face.h5\")"
            ]
        },
        {
            "cell_type": "code",
            "execution_count": 8,
            "metadata": {},
            "outputs": [
                {
                    "name": "stdout",
                    "output_type": "stream",
                    "text": [
                        "test:user1\n",
                        "user1, user1, user1, user1, user1, user1, user1, user1, user1, user1, user1, user1, user1, user1, user1, user1, user1, user1, user1, user1, user1, user1, user1, user1, user1, user1, user1, user1, user1, user1, user1, user1, user1, user1, user1, user1, user1, user1, user1, user1, user1, user1, user1, user1, user1, user1, user1, user1, user1, user1, user1, user1, user1, user1, user1, user1, user1, user1, user1, user1, user1, user1, user1, user1, user1, user1, user1, user1, user1, user1, user1, user1, user1, user1, user1, user1, user1, user1, user1, user1, user1, user1, user1, user1, user1, user1, user1, user1, user1, user1, user1, user1, user1, user1, user1, user1, user1, user1, user1, user1, user1, user1, user1, user1, user1, user1, user1, user1, user1, user1, user1, user1, user1, user1, user1, user1, user1, user1, user1, user1, user1, user1, user1, user1, user1, user1, user1, user1, user1, user1, user1, user1, user1, user1, user1, user1, user1, user1, user1, user1, user1, user1, user1, user1, user1, user1, user1, user1, user1, user1, user1, user1, user1, user1, user1, user1, user1, user1, user1, user1, user1, user1, user1, user1, user1, user1, user1, user1, user1, user1, user1, user1, user1, user1, user1, user1, user1, user1, user1, user1, user1, user1, user1, user1, user1, user1, user1, user1, user1, user1, user1, user1, user1, user1, user1, user1, user1, user1, user1, user1, user1, user1, user1, user1, user1, user1, user1, user1, user1, user1, user1, user1, test:others\n",
                        "others, others, others, others, others, others, others, others, others, others, others, others, others, others, others, others, others, others, others, others, others, others, others, others, others, others, others, others, others, others, others, others, others, others, others, others, others, others, others, others, others, others, others, others, others, others, others, others, others, others, "
                    ]
                }
            ],
            "source": [
                "print(\"test:user1\")\n",
                "for pic in os.listdir(\"user1\")[450:]:\n",
                "    print(predicter_dir(\"user1/\"+pic), end=\", \")\n",
                "print(\"test:others\")\n",
                "for pic in os.listdir(\"others\")[:50]:\n",
                "    print(predicter_dir(\"others/\"+pic), end=\", \")"
            ]
        },
        {
            "cell_type": "code",
            "execution_count": 1,
            "metadata": {},
            "outputs": [
                {
                    "ename": "NameError",
                    "evalue": "name 'cv2' is not defined",
                    "output_type": "error",
                    "traceback": [
                        "\u001b[1;31m---------------------------------------------------------------------------\u001b[0m",
                        "\u001b[1;31mNameError\u001b[0m                                 Traceback (most recent call last)",
                        "\u001b[1;32m~\\AppData\\Local\\Temp/ipykernel_3056/385044592.py\u001b[0m in \u001b[0;36m<module>\u001b[1;34m\u001b[0m\n\u001b[1;32m----> 1\u001b[1;33m \u001b[0mcascade\u001b[0m \u001b[1;33m=\u001b[0m \u001b[0mcv2\u001b[0m\u001b[1;33m.\u001b[0m\u001b[0mCascadeClassifier\u001b[0m\u001b[1;33m(\u001b[0m\u001b[1;34m\"haarcascade_frontalface_alt.xml\"\u001b[0m\u001b[1;33m)\u001b[0m\u001b[1;33m\u001b[0m\u001b[1;33m\u001b[0m\u001b[0m\n\u001b[0m\u001b[0;32m      2\u001b[0m \u001b[0mcapture\u001b[0m \u001b[1;33m=\u001b[0m \u001b[0mcv2\u001b[0m\u001b[1;33m.\u001b[0m\u001b[0mVideoCapture\u001b[0m\u001b[1;33m(\u001b[0m\u001b[1;36m0\u001b[0m\u001b[1;33m)\u001b[0m\u001b[1;33m\u001b[0m\u001b[1;33m\u001b[0m\u001b[0m\n\u001b[0;32m      3\u001b[0m \u001b[0mcapture\u001b[0m\u001b[1;33m.\u001b[0m\u001b[0mset\u001b[0m\u001b[1;33m(\u001b[0m\u001b[0mcv2\u001b[0m\u001b[1;33m.\u001b[0m\u001b[0mCAP_PROP_FRAME_WIDTH\u001b[0m\u001b[1;33m,\u001b[0m \u001b[1;36m1280\u001b[0m\u001b[1;33m)\u001b[0m\u001b[1;33m\u001b[0m\u001b[1;33m\u001b[0m\u001b[0m\n\u001b[0;32m      4\u001b[0m \u001b[0mcapture\u001b[0m\u001b[1;33m.\u001b[0m\u001b[0mset\u001b[0m\u001b[1;33m(\u001b[0m\u001b[0mcv2\u001b[0m\u001b[1;33m.\u001b[0m\u001b[0mCAP_PROP_FRAME_HEIGHT\u001b[0m\u001b[1;33m,\u001b[0m \u001b[1;36m720\u001b[0m\u001b[1;33m)\u001b[0m\u001b[1;33m\u001b[0m\u001b[1;33m\u001b[0m\u001b[0m\n\u001b[0;32m      5\u001b[0m \u001b[1;32mwhile\u001b[0m \u001b[0mcv2\u001b[0m\u001b[1;33m.\u001b[0m\u001b[0mwaitKey\u001b[0m\u001b[1;33m(\u001b[0m\u001b[1;36m33\u001b[0m\u001b[1;33m)\u001b[0m \u001b[1;33m<\u001b[0m \u001b[1;36m0\u001b[0m\u001b[1;33m:\u001b[0m\u001b[1;33m\u001b[0m\u001b[1;33m\u001b[0m\u001b[0m\n",
                        "\u001b[1;31mNameError\u001b[0m: name 'cv2' is not defined"
                    ]
                }
            ],
            "source": [
                "cascade = cv2.CascadeClassifier(\"haarcascade_frontalface_alt.xml\")\n",
                "capture = cv2.VideoCapture(0)\n",
                "capture.set(cv2.CAP_PROP_FRAME_WIDTH, 1280)\n",
                "capture.set(cv2.CAP_PROP_FRAME_HEIGHT, 720)\n",
                "while cv2.waitKey(33) < 0:\n",
                "    ret, frame = capture.read()\n",
                "    if ret: \n",
                "        gray = cv2.cvtColor(frame, cv2.COLOR_RGB2GRAY)\n",
                "        result = cascade.detectMultiScale(\n",
                "            gray, scaleFactor=1.1, minNeighbors=5, minSize=(20, 20))\n",
                "        for x, y, w, h in result:\n",
                "            cut = frame[y:y+h, x:x+w]\n",
                "            text = predicter(cut)\n",
                "            frame = cv2.rectangle(frame, (x, y), (x+w, y+h), (255, 255, 0), 2)\n",
                "            font = cv2.FONT_HERSHEY_SIMPLEX\n",
                "            cv2.putText(frame, text, (x, y), font, 1, (255, 255, 0), 2)\n",
                "        cv2.imshow(\"Video Frame\", frame)\n",
                "capture.release()\n",
                "cv2.destroyAllWindows()"
            ]
        }
    ],
    "metadata": {
        "interpreter": {
            "hash": "fe3e32572c16f8912ca56bc29dee2a7d9456ce057726a4498d2754200e831c08"
        },
        "kernelspec": {
            "display_name": "Python 3.9.0 64-bit",
            "name": "python3"
        },
        "language_info": {
            "codemirror_mode": {
                "name": "ipython",
                "version": 3
            },
            "file_extension": ".py",
            "mimetype": "text/x-python",
            "name": "python",
            "nbconvert_exporter": "python",
            "pygments_lexer": "ipython3",
            "version": "3.8.10"
        },
        "orig_nbformat": 4
    },
    "nbformat": 4,
    "nbformat_minor": 2
}
